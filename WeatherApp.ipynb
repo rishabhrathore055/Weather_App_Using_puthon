{
 "cells": [
  {
   "cell_type": "markdown",
   "source": [
    "<h1 align=\"center\"> Weather App Using API </h1>"
   ],
   "metadata": {}
  },
  {
   "cell_type": "markdown",
   "source": [
    "### We will discuss creating a weather application using tkinter. The GUI app will provide information about temperature, latitude, longitude, date, time, year, country of origin, and other details about the current weather of a particular city.\n",
    "---"
   ],
   "metadata": {}
  },
  {
   "cell_type": "markdown",
   "source": [
    "📋 **Modules Request:**\n",
    "----\n",
    "---\n",
    "1. **Tkinter** is the standard GUI library for Python. Python when combined with Tkinter provides a fast and easy way to create GUI applications. Tkinter provides a powerful object-oriented interface to the Tk GUI toolkit.\n",
    "\n",
    "- Creating a GUI application using Tkinter is an easy task. All you need to do is perform the following steps −\n",
    "\n",
    "    1. Import the Tkinter module.\n",
    "\n",
    "    2. Create the GUI application main window.\n",
    "\n",
    "    3. Add one or more of the above-mentioned widgets to the GUI application.\n",
    "\n",
    "    4. Enter the main event loop to take action against each event triggered by the user.\n",
    "    \n",
    "2. **Requests:** The requests library is the de facto standard for making HTTP requests in Python. It abstracts the complexities of making requests behind a beautiful, simple API so that you can focus on interacting with services and consuming data in your application.    "
   ],
   "metadata": {}
  },
  {
   "cell_type": "code",
   "execution_count": null,
   "source": [
    "pip install requests"
   ],
   "outputs": [],
   "metadata": {}
  },
  {
   "cell_type": "markdown",
   "source": [
    "📋 **Approach:**\n",
    "---\n",
    "---\n",
    "- First, we need to use a weather API (Application Programming Interface) to fetch data from the [Open Weather Map](https://openweathermap.org/) website, and then we need to make a configuration file to store the API key. Finally, we use that configuration file in the Python script."
   ],
   "metadata": {}
  },
  {
   "cell_type": "markdown",
   "source": [
    "📋 **Steps to generate an API key:**\n",
    "----\n",
    "----\n",
    "1. Login in the [Open Weather Map](https://openweathermap.org/)\n",
    "2. Go to the API section. Then in the Current Weather Data section click on the Api doc.\n",
    "3. Now in the API Call section, we have the link of api.openweathermap.org/data/2.5/weather?q={city name}&appid={API key}\n",
    "4. Click on the API key on the link it will direct to the page from where you can get the key."
   ],
   "metadata": {}
  },
  {
   "cell_type": "markdown",
   "source": [
    "📋 **Steps to create the python3 -- Weather Application using API**\n",
    "---\n",
    "----"
   ],
   "metadata": {}
  },
  {
   "cell_type": "markdown",
   "source": [
    "### 📌 Importing the libraries:"
   ],
   "metadata": {}
  },
  {
   "cell_type": "code",
   "execution_count": null,
   "source": [
    "from tkinter import *\n",
    "import requests\n",
    "import json\n",
    "import datetime\n",
    "from PIL import ImageTk, Image"
   ],
   "outputs": [],
   "metadata": {}
  },
  {
   "cell_type": "markdown",
   "source": [
    "### 📌 Interface of the Application:"
   ],
   "metadata": {}
  },
  {
   "cell_type": "code",
   "execution_count": null,
   "source": [
    "root = Tk()\n",
    "root.title(\"Weather App\")\n",
    "root.geometry(\"500x500\")\n",
    "root['background'] = \"white\""
   ],
   "outputs": [],
   "metadata": {}
  },
  {
   "cell_type": "markdown",
   "source": [
    "### 📌 Dates:"
   ],
   "metadata": {}
  },
  {
   "cell_type": "code",
   "execution_count": null,
   "source": [
    "dt = datetime.datetime.now()\n",
    "date = Label(root, text=dt.strftime('%A  '), bg='white', font=(\"Bold\", 15))\n",
    "date.place(x=15, y=130)\n",
    "month = Label(root, text=dt.strftime('%m %B'), bg='white', font=(\"Blod\", 15))\n",
    "month.place(x=100, y=130)"
   ],
   "outputs": [],
   "metadata": {}
  },
  {
   "cell_type": "markdown",
   "source": [
    "### 📌 Time:"
   ],
   "metadata": {}
  },
  {
   "cell_type": "code",
   "execution_count": null,
   "source": [
    "hour = Label(root, text=dt.strftime('%I : %M %p'),\n",
    "\t\t\tbg='white', font=(\"bold\", 15))\n",
    "hour.place(x=15, y=160)\n"
   ],
   "outputs": [],
   "metadata": {}
  },
  {
   "cell_type": "markdown",
   "source": [
    "### 📌 Theme for the respective time the application is used:"
   ],
   "metadata": {}
  },
  {
   "cell_type": "code",
   "execution_count": null,
   "source": [
    "if int((dt.strftime('%I'))) >= 8 & int((dt.strftime('%I'))) <= 5:\n",
    "\timg = ImageTk.PhotoImage(Image.open('moon.png'))\n",
    "\tpanel = Label(root, image=img)\n",
    "\tpanel.place(x=210, y=200)\n",
    "else:\n",
    "\timg = ImageTk.PhotoImage(Image.open('sun.png'))\n",
    "\tpanel = Label(root, image=img)\n",
    "\tpanel.place(x=210, y=200)\n"
   ],
   "outputs": [],
   "metadata": {}
  },
  {
   "cell_type": "markdown",
   "source": [
    "### 📌 City Search"
   ],
   "metadata": {}
  },
  {
   "cell_type": "code",
   "execution_count": null,
   "source": [
    "city_name = StringVar()\n",
    "city_entry = Entry(root, textvariable=city_name, width=45)\n",
    "city_entry.grid(row=1, column=0, ipady=10, stick=W+E+N+S)"
   ],
   "outputs": [],
   "metadata": {}
  },
  {
   "cell_type": "markdown",
   "source": [
    "### 📌 The function where the API calls:"
   ],
   "metadata": {}
  },
  {
   "cell_type": "code",
   "execution_count": null,
   "source": [
    "def city_name():\n",
    "\n",
    "\t# API Call\n",
    "\tapi_request = requests.get(\"https://api.openweathermap.org/data/2.5/weather?q=\"\n",
    "\t\t\t\t\t\t\t+ city_entry.get() + '&APPID=b35975e18dc93725acb092f7272cc6b8&units=metric')\n",
    "\n",
    "\tapi = json.loads(api_request.content)\n",
    "\n",
    "\t# Temperatures\n",
    "\ty = api['main']\n",
    "\tcurrent_temprature = y['temp']\n",
    "\thumidity = y['humidity']\n",
    "\ttempmin = y['temp_min']\n",
    "\ttempmax = y['temp_max']\n",
    "\n",
    "\t# Coordinates\n",
    "\tx = api['coord']\n",
    "\tlongtitude = x['lon']\n",
    "\tlatitude = x['lat']\n",
    "\n",
    "\t# Country\n",
    "\tz = api['sys']\n",
    "\tcountry = z['country']\n",
    "\tciti = api['name']"
   ],
   "outputs": [],
   "metadata": {}
  },
  {
   "cell_type": "markdown",
   "source": [
    "### 📌 Adding the received info into the screen"
   ],
   "metadata": {}
  },
  {
   "cell_type": "code",
   "execution_count": null,
   "source": [
    "\n",
    "\tlable_temp.configure(text=current_temprature)\n",
    "\tlable_humidity.configure(text=humidity)\n",
    "\tmax_temp.configure(text=tempmax)\n",
    "\tmin_temp.configure(text=tempmin)\n",
    "\tlable_lon.configure(text=longtitude)\n",
    "\tlable_lat.configure(text=latitude)\n",
    "\tlable_country.configure(text=country)\n",
    "\tlable_citi.configure(text=citi)"
   ],
   "outputs": [],
   "metadata": {}
  },
  {
   "cell_type": "markdown",
   "source": [
    "### 📌 Search Bar and Button:"
   ],
   "metadata": {}
  },
  {
   "cell_type": "code",
   "execution_count": null,
   "source": [
    "city_nameButton = Button(root, text=\"Search\", command=city_name)\n",
    "city_nameButton.grid(row=1, column=1, padx=5, stick=W+E+N+S)"
   ],
   "outputs": [],
   "metadata": {}
  },
  {
   "cell_type": "markdown",
   "source": [
    "### 📌 Country Names and Coordinates:"
   ],
   "metadata": {}
  },
  {
   "cell_type": "code",
   "execution_count": null,
   "source": [
    "lable_citi = Label(root, text=\"...\", width=0,\n",
    "\t\t\t\tbg='white', font=(\"bold\", 15))\n",
    "lable_citi.place(x=15, y=63)\n",
    "\n",
    "lable_country = Label(root, text=\"...\", width=0,\n",
    "\t\t\t\t\tbg='white', font=(\"bold\", 15))\n",
    "lable_country.place(x=180, y=63)\n",
    "\n",
    "lable_lon = Label(root, text=\"...\", width=0,\n",
    "\t\t\t\tbg='white', font=(\"Helvetica\", 15))\n",
    "lable_lon.place(x=15, y=95)\n",
    "lable_lat = Label(root, text=\"...\", width=0,\n",
    "\t\t\t\tbg='white', font=(\"Helvetica\", 15))\n",
    "lable_lat.place(x=180, y=95)"
   ],
   "outputs": [],
   "metadata": {}
  },
  {
   "cell_type": "markdown",
   "source": [
    "### 📌 Current Temperature:"
   ],
   "metadata": {}
  },
  {
   "cell_type": "code",
   "execution_count": null,
   "source": [
    "lable_temp = Label(root, text=\"...\", width=0, bg = \"White\",\n",
    "\t\t\t\tfont=(\"Hahmlet\",55), fg='black')\n",
    "lable_temp.place(x=18, y=250)"
   ],
   "outputs": [],
   "metadata": {}
  },
  {
   "cell_type": "markdown",
   "source": [
    "### 📌 Other temperature details:"
   ],
   "metadata": {}
  },
  {
   "cell_type": "code",
   "execution_count": null,
   "source": [
    "humi = Label(root, text=\"Humidity : \", width=0,\n",
    "\t\t\tbg='white', font=(\"bold\", 15))\n",
    "humi.place(x=15, y=400)\n",
    "\n",
    "lable_humidity = Label(root, text=\"...\", width=0,\n",
    "\t\t\t\t\tbg='white', font=(\"bold\", 15))\n",
    "lable_humidity.place(x=107, y=400)\n",
    "\n",
    "\n",
    "maxi = Label(root, text=\"Max.Temp. : \", width=0,\n",
    "\t\t\tbg='white', font=(\"bold\", 15))\n",
    "maxi.place(x=15, y=430)\n",
    "\n",
    "max_temp = Label(root, text=\"...\", width=0,\n",
    "\t\t\t\tbg='white', font=(\"bold\", 15))\n",
    "max_temp.place(x=128, y=430)\n",
    "\n",
    "\n",
    "mini = Label(root, text=\"Min.Temp. : \", width=0,\n",
    "\t\t\tbg='white', font=(\"bold\", 15))\n",
    "mini.place(x=15, y=460)\n",
    "\n",
    "min_temp = Label(root, text=\"...\", width=0,\n",
    "\t\t\t\tbg='white', font=(\"bold\", 15))\n",
    "min_temp.place(x=128, y=460)"
   ],
   "outputs": [],
   "metadata": {}
  },
  {
   "cell_type": "markdown",
   "source": [
    "### 📌 The main event loop to take action against each event triggered by the user:"
   ],
   "metadata": {}
  },
  {
   "cell_type": "code",
   "execution_count": null,
   "source": [
    "root.mainloop()"
   ],
   "outputs": [],
   "metadata": {}
  }
 ],
 "metadata": {
  "kernelspec": {
   "display_name": "Python 3",
   "language": "python",
   "name": "python3"
  },
  "language_info": {
   "codemirror_mode": {
    "name": "ipython",
    "version": 3
   },
   "file_extension": ".py",
   "mimetype": "text/x-python",
   "name": "python",
   "nbconvert_exporter": "python",
   "pygments_lexer": "ipython3",
   "version": "3.8.8"
  }
 },
 "nbformat": 4,
 "nbformat_minor": 5
}